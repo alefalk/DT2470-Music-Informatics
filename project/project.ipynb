{
 "cells": [
  {
   "cell_type": "code",
   "execution_count": 12,
   "metadata": {},
   "outputs": [
    {
     "name": "stdout",
     "output_type": "stream",
     "text": [
      "   canonical_composer                canonical_title       split  year  \\\n",
      "0          Alban Berg                   Sonata Op. 1       train  2018   \n",
      "1          Alban Berg                   Sonata Op. 1       train  2008   \n",
      "2          Alban Berg                   Sonata Op. 1       train  2017   \n",
      "3  Alexander Scriabin  24 Preludes Op. 11, No. 13-24       train  2004   \n",
      "4  Alexander Scriabin               3 Etudes, Op. 65  validation  2006   \n",
      "\n",
      "                                       midi_filename  \\\n",
      "0  2018/MIDI-Unprocessed_Chamber3_MID--AUDIO_10_R...   \n",
      "1  2008/MIDI-Unprocessed_03_R2_2008_01-03_ORIG_MI...   \n",
      "2  2017/MIDI-Unprocessed_066_PIANO066_MID--AUDIO-...   \n",
      "3  2004/MIDI-Unprocessed_XP_21_R1_2004_01_ORIG_MI...   \n",
      "4  2006/MIDI-Unprocessed_17_R1_2006_01-06_ORIG_MI...   \n",
      "\n",
      "                                      audio_filename    duration  \n",
      "0  2018/MIDI-Unprocessed_Chamber3_MID--AUDIO_10_R...  698.661160  \n",
      "1  2008/MIDI-Unprocessed_03_R2_2008_01-03_ORIG_MI...  759.518471  \n",
      "2  2017/MIDI-Unprocessed_066_PIANO066_MID--AUDIO-...  464.649433  \n",
      "3  2004/MIDI-Unprocessed_XP_21_R1_2004_01_ORIG_MI...  872.640588  \n",
      "4  2006/MIDI-Unprocessed_17_R1_2006_01-06_ORIG_MI...  397.857508  \n"
     ]
    }
   ],
   "source": [
    "import pandas as pd\n",
    "\n",
    "maestro_df = pd.read_csv('maestro-v3.0.0.csv')\n",
    "#print(df.info())\n",
    "print(maestro_df.head())"
   ]
  },
  {
   "cell_type": "code",
   "execution_count": 15,
   "metadata": {},
   "outputs": [
    {
     "name": "stdout",
     "output_type": "stream",
     "text": [
      "962\n",
      "177\n",
      "137\n"
     ]
    }
   ],
   "source": [
    "maestro_df_train = maestro_df[maestro_df['split']=='train']\n",
    "maestro_df_test = maestro_df[maestro_df['split']=='test']\n",
    "maestro_df_val = maestro_df[maestro_df['split']=='validation']\n",
    "\n",
    "print(len(maestro_df_train))\n",
    "print(len(maestro_df_test))\n",
    "print(len(maestro_df_val))"
   ]
  },
  {
   "cell_type": "code",
   "execution_count": 16,
   "metadata": {},
   "outputs": [
    {
     "name": "stdout",
     "output_type": "stream",
     "text": [
      "['train' 'validation' 'test']\n"
     ]
    }
   ],
   "source": []
  }
 ],
 "metadata": {
  "kernelspec": {
   "display_name": "base",
   "language": "python",
   "name": "python3"
  },
  "language_info": {
   "codemirror_mode": {
    "name": "ipython",
    "version": 3
   },
   "file_extension": ".py",
   "mimetype": "text/x-python",
   "name": "python",
   "nbconvert_exporter": "python",
   "pygments_lexer": "ipython3",
   "version": "3.11.0"
  }
 },
 "nbformat": 4,
 "nbformat_minor": 2
}
